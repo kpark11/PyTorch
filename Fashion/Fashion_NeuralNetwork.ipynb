{
 "cells": [
  {
   "cell_type": "markdown",
   "id": "65d3a78e",
   "metadata": {},
   "source": [
    "### This section runs through the API for common tasks in machine learning. Refer to the links in each section to dive deeper. ###"
   ]
  },
  {
   "cell_type": "markdown",
   "id": "50b06ffe",
   "metadata": {},
   "source": [
    "(https://pytorch.org/tutorials/beginner/basics/quickstart_tutorial.html)"
   ]
  },
  {
   "cell_type": "markdown",
   "id": "ddefa14b",
   "metadata": {},
   "source": [
    "Let's import torch packages and the datasets!"
   ]
  },
  {
   "cell_type": "code",
   "execution_count": 2,
   "id": "17b49d9e",
   "metadata": {},
   "outputs": [],
   "source": [
    "import torch\n",
    "from torch import nn\n",
    "from torch.utils.data import DataLoader\n",
    "from torchvision import datasets\n",
    "from torchvision.transforms import ToTensor\n",
    "import matplotlib.pyplot as plt"
   ]
  },
  {
   "cell_type": "code",
   "execution_count": 3,
   "id": "62c64480",
   "metadata": {},
   "outputs": [],
   "source": [
    "# Download training data from open datasets.\n",
    "training_data = datasets.FashionMNIST(\n",
    "    root=\"data\",\n",
    "    train=True,\n",
    "    download=False,\n",
    "    transform=ToTensor(),\n",
    ")\n",
    "\n",
    "# Download test data from open datasets.\n",
    "test_data = datasets.FashionMNIST(\n",
    "    root=\"data\",\n",
    "    train=False,\n",
    "    download=False,\n",
    "    transform=ToTensor(),\n",
    ")"
   ]
  },
  {
   "cell_type": "code",
   "execution_count": 4,
   "id": "49bd81d8",
   "metadata": {},
   "outputs": [
    {
     "data": {
      "image/png": "[encoded data removed]",
      "text/plain": [
       "<Figure size 576x576 with 9 Axes>"
      ]
     },
     "metadata": {
      "needs_background": "light"
     },
     "output_type": "display_data"
    }
   ],
   "source": [
    "labels_map = {\n",
    "    0: \"T-Shirt\",\n",
    "    1: \"Trouser\",\n",
    "    2: \"Pullover\",\n",
    "    3: \"Dress\",\n",
    "    4: \"Coat\",\n",
    "    5: \"Sandal\",\n",
    "    6: \"Shirt\",\n",
    "    7: \"Sneaker\",\n",
    "    8: \"Bag\",\n",
    "    9: \"Ankle Boot\",\n",
    "}\n",
    "figure = plt.figure(figsize=(8, 8))\n",
    "cols, rows = 3, 3\n",
    "for i in range(1, cols * rows + 1):\n",
    "    sample_idx = torch.randint(len(training_data), size=(1,)).item()\n",
    "    img, label = training_data[sample_idx]\n",
    "    figure.add_subplot(rows, cols, i)\n",
    "    plt.title(labels_map[label])\n",
    "    plt.axis(\"off\")\n",
    "    plt.imshow(img.squeeze(), cmap=\"gray\")\n",
    "plt.show()"
   ]
  },
  {
   "cell_type": "code",
   "execution_count": 5,
   "id": "b8a77d3b",
   "metadata": {},
   "outputs": [
    {
     "name": "stdout",
     "output_type": "stream",
     "text": [
      "Shape of X [N, C, H, W]: torch.Size([64, 1, 28, 28])\n",
      "Shape of y: torch.Size([64]) torch.int64\n"
     ]
    }
   ],
   "source": [
    "batch_size = 64\n",
    "\n",
    "# Create data loaders.\n",
    "train_dataloader = DataLoader(training_data, batch_size=batch_size)\n",
    "test_dataloader = DataLoader(test_data, batch_size=batch_size)\n",
    "\n",
    "for X, y in test_dataloader:\n",
    "    print(f\"Shape of X [N, C, H, W]: {X.shape}\")\n",
    "    print(f\"Shape of y: {y.shape} {y.dtype}\")\n",
    "    break"
   ]
  },
  {
   "cell_type": "code",
   "execution_count": 6,
   "id": "6168b80b",
   "metadata": {},
   "outputs": [
    {
     "name": "stdout",
     "output_type": "stream",
     "text": [
      "Using cpu device\n",
      "NeuralNetwork(\n",
      "  (flatten): Flatten(start_dim=1, end_dim=-1)\n",
      "  (linear_relu_stack): Sequential(\n",
      "    (0): Linear(in_features=784, out_features=512, bias=True)\n",
      "    (1): ReLU()\n",
      "    (2): Linear(in_features=512, out_features=512, bias=True)\n",
      "    (3): ReLU()\n",
      "    (4): Linear(in_features=512, out_features=10, bias=True)\n",
      "  )\n",
      ")\n"
     ]
    }
   ],
   "source": [
    "# Get cpu, gpu or mps device for training.\n",
    "device = (\n",
    "    \"cuda\"\n",
    "    if torch.cuda.is_available()\n",
    "    else \"mps\"\n",
    "    if torch.backends.mps.is_available()\n",
    "    else \"cpu\"\n",
    ")\n",
    "print(f\"Using {device} device\")\n",
    "\n",
    "# Define model\n",
    "class NeuralNetwork(nn.Module):\n",
    "    def __init__(self):\n",
    "        super().__init__()\n",
    "        self.flatten = nn.Flatten()\n",
    "        self.linear_relu_stack = nn.Sequential(\n",
    "            nn.Linear(28*28, 512),\n",
    "            nn.ReLU(),\n",
    "            nn.Linear(512, 512),\n",
    "            nn.ReLU(),\n",
    "            nn.Linear(512, 10)\n",
    "        )\n",
    "\n",
    "    def forward(self, x):\n",
    "        x = self.flatten(x)\n",
    "        logits = self.linear_relu_stack(x)\n",
    "        return logits\n",
    "\n",
    "model = NeuralNetwork().to(device)\n",
    "print(model)"
   ]
  },
  {
   "cell_type": "code",
   "execution_count": 7,
   "id": "81368fcc",
   "metadata": {},
   "outputs": [],
   "source": [
    "loss_fn = nn.CrossEntropyLoss()\n",
    "optimizer = torch.optim.SGD(model.parameters(), lr=1e-3)"
   ]
  },
  {
   "cell_type": "code",
   "execution_count": 8,
   "id": "95e822d1",
   "metadata": {},
   "outputs": [],
   "source": [
    "def train(dataloader, model, loss_fn, optimizer):\n",
    "    size = len(dataloader.dataset)\n",
    "    model.train()\n",
    "    for batch, (X, y) in enumerate(dataloader):\n",
    "        X, y = X.to(device), y.to(device)\n",
    "\n",
    "        # Compute prediction error\n",
    "        pred = model(X)\n",
    "        loss = loss_fn(pred, y)\n",
    "\n",
    "        # Backpropagation\n",
    "        loss.backward()\n",
    "        optimizer.step()\n",
    "        optimizer.zero_grad()\n",
    "\n",
    "        if batch % 100 == 0:\n",
    "            loss, current = loss.item(), (batch + 1) * len(X)\n",
    "            print(f\"loss: {loss:>7f}  [{current:>5d}/{size:>5d}]\")"
   ]
  },
  {
   "cell_type": "code",
   "execution_count": 9,
   "id": "a633565a",
   "metadata": {},
   "outputs": [],
   "source": [
    "def test(dataloader, model, loss_fn):\n",
    "    size = len(dataloader.dataset)\n",
    "    num_batches = len(dataloader)\n",
    "    model.eval()\n",
    "    test_loss, correct = 0, 0\n",
    "    with torch.no_grad():\n",
    "        for X, y in dataloader:\n",
    "            X, y = X.to(device), y.to(device)\n",
    "            pred = model(X)\n",
    "            test_loss += loss_fn(pred, y).item()\n",
    "            correct += (pred.argmax(1) == y).type(torch.float).sum().item()\n",
    "    test_loss /= num_batches\n",
    "    correct /= size\n",
    "    print(f\"Test Error: \\n Accuracy: {(100*correct):>0.1f}%, Avg loss: {test_loss:>8f} \\n\")"
   ]
  },
  {
   "cell_type": "code",
   "execution_count": 10,
   "id": "c21c2d13",
   "metadata": {},
   "outputs": [
    {
     "name": "stdout",
     "output_type": "stream",
     "text": [
      "Epoch 1\n",
      "-------------------------------\n",
      "loss: 2.299784  [   64/60000]\n",
      "loss: 2.293941  [ 6464/60000]\n",
      "loss: 2.275090  [12864/60000]\n",
      "loss: 2.276096  [19264/60000]\n",
      "loss: 2.246835  [25664/60000]\n",
      "loss: 2.217496  [32064/60000]\n",
      "loss: 2.231640  [38464/60000]\n",
      "loss: 2.197830  [44864/60000]\n",
      "loss: 2.192724  [51264/60000]\n",
      "loss: 2.166050  [57664/60000]\n",
      "Test Error: \n",
      " Accuracy: 44.9%, Avg loss: 2.158234 \n",
      "\n",
      "Epoch 2\n",
      "-------------------------------\n",
      "loss: 2.166549  [   64/60000]\n",
      "loss: 2.161078  [ 6464/60000]\n",
      "loss: 2.104210  [12864/60000]\n",
      "loss: 2.125593  [19264/60000]\n",
      "loss: 2.064302  [25664/60000]\n",
      "loss: 2.008545  [32064/60000]\n",
      "loss: 2.042341  [38464/60000]\n",
      "loss: 1.964355  [44864/60000]\n",
      "loss: 1.963063  [51264/60000]\n",
      "loss: 1.902672  [57664/60000]\n",
      "Test Error: \n",
      " Accuracy: 57.4%, Avg loss: 1.891809 \n",
      "\n",
      "Epoch 3\n",
      "-------------------------------\n",
      "loss: 1.924167  [   64/60000]\n",
      "loss: 1.896542  [ 6464/60000]\n",
      "loss: 1.778292  [12864/60000]\n",
      "loss: 1.825586  [19264/60000]\n",
      "loss: 1.704630  [25664/60000]\n",
      "loss: 1.659697  [32064/60000]\n",
      "loss: 1.689064  [38464/60000]\n",
      "loss: 1.586269  [44864/60000]\n",
      "loss: 1.604970  [51264/60000]\n",
      "loss: 1.513296  [57664/60000]\n",
      "Test Error: \n",
      " Accuracy: 60.7%, Avg loss: 1.519943 \n",
      "\n",
      "Epoch 4\n",
      "-------------------------------\n",
      "loss: 1.585892  [   64/60000]\n",
      "loss: 1.551837  [ 6464/60000]\n",
      "loss: 1.399449  [12864/60000]\n",
      "loss: 1.479062  [19264/60000]\n",
      "loss: 1.352577  [25664/60000]\n",
      "loss: 1.349462  [32064/60000]\n",
      "loss: 1.370906  [38464/60000]\n",
      "loss: 1.289756  [44864/60000]\n",
      "loss: 1.322387  [51264/60000]\n",
      "loss: 1.230995  [57664/60000]\n",
      "Test Error: \n",
      " Accuracy: 63.0%, Avg loss: 1.252297 \n",
      "\n",
      "Epoch 5\n",
      "-------------------------------\n",
      "loss: 1.328519  [   64/60000]\n",
      "loss: 1.313220  [ 6464/60000]\n",
      "loss: 1.146082  [12864/60000]\n",
      "loss: 1.255749  [19264/60000]\n",
      "loss: 1.129687  [25664/60000]\n",
      "loss: 1.152260  [32064/60000]\n",
      "loss: 1.177569  [38464/60000]\n",
      "loss: 1.108503  [44864/60000]\n",
      "loss: 1.146140  [51264/60000]\n",
      "loss: 1.067449  [57664/60000]\n",
      "Test Error: \n",
      " Accuracy: 64.6%, Avg loss: 1.087804 \n",
      "\n",
      "Epoch 6\n",
      "-------------------------------\n",
      "loss: 1.156639  [   64/60000]\n",
      "loss: 1.163862  [ 6464/60000]\n",
      "loss: 0.980242  [12864/60000]\n",
      "loss: 1.117262  [19264/60000]\n",
      "loss: 0.991895  [25664/60000]\n",
      "loss: 1.019434  [32064/60000]\n",
      "loss: 1.058005  [38464/60000]\n",
      "loss: 0.992511  [44864/60000]\n",
      "loss: 1.030800  [51264/60000]\n",
      "loss: 0.965342  [57664/60000]\n",
      "Test Error: \n",
      " Accuracy: 66.1%, Avg loss: 0.981307 \n",
      "\n",
      "Epoch 7\n",
      "-------------------------------\n",
      "loss: 1.036487  [   64/60000]\n",
      "loss: 1.065996  [ 6464/60000]\n",
      "loss: 0.865590  [12864/60000]\n",
      "loss: 1.024820  [19264/60000]\n",
      "loss: 0.903783  [25664/60000]\n",
      "loss: 0.925015  [32064/60000]\n",
      "loss: 0.979348  [38464/60000]\n",
      "loss: 0.915963  [44864/60000]\n",
      "loss: 0.951223  [51264/60000]\n",
      "loss: 0.896714  [57664/60000]\n",
      "Test Error: \n",
      " Accuracy: 67.4%, Avg loss: 0.908208 \n",
      "\n",
      "Epoch 8\n",
      "-------------------------------\n",
      "loss: 0.948055  [   64/60000]\n",
      "loss: 0.996946  [ 6464/60000]\n",
      "loss: 0.782656  [12864/60000]\n",
      "loss: 0.958943  [19264/60000]\n",
      "loss: 0.843835  [25664/60000]\n",
      "loss: 0.855209  [32064/60000]\n",
      "loss: 0.923924  [38464/60000]\n",
      "loss: 0.863991  [44864/60000]\n",
      "loss: 0.893736  [51264/60000]\n",
      "loss: 0.847141  [57664/60000]\n",
      "Test Error: \n",
      " Accuracy: 68.6%, Avg loss: 0.855274 \n",
      "\n",
      "Done!\n"
     ]
    }
   ],
   "source": [
    "epochs = 8\n",
    "for t in range(epochs):\n",
    "    print(f\"Epoch {t+1}\\n-------------------------------\")\n",
    "    train(train_dataloader, model, loss_fn, optimizer)\n",
    "    test(test_dataloader, model, loss_fn)\n",
    "print(\"Done!\")"
   ]
  },
  {
   "cell_type": "code",
   "execution_count": 11,
   "id": "633eb9c8",
   "metadata": {},
   "outputs": [
    {
     "name": "stdout",
     "output_type": "stream",
     "text": [
      "Saved PyTorch Model State to model.pth\n"
     ]
    }
   ],
   "source": [
    "torch.save(model.state_dict(), \"model.pth\")\n",
    "print(\"Saved PyTorch Model State to model.pth\")"
   ]
  },
  {
   "cell_type": "code",
   "execution_count": 12,
   "id": "194fccc8",
   "metadata": {},
   "outputs": [
    {
     "data": {
      "text/plain": [
       "<All keys matched successfully>"
      ]
     },
     "execution_count": 12,
     "metadata": {},
     "output_type": "execute_result"
    }
   ],
   "source": [
    "model = NeuralNetwork().to(device)\n",
    "model.load_state_dict(torch.load(\"model.pth\"))"
   ]
  },
  {
   "cell_type": "code",
   "execution_count": 13,
   "id": "e8bc3ccc",
   "metadata": {},
   "outputs": [
    {
     "name": "stdout",
     "output_type": "stream",
     "text": [
      "Predicted: \"Ankle boot\", Actual: \"Ankle boot\"\n"
     ]
    }
   ],
   "source": [
    "classes = [\n",
    "    \"T-shirt/top\",\n",
    "    \"Trouser\",\n",
    "    \"Pullover\",\n",
    "    \"Dress\",\n",
    "    \"Coat\",\n",
    "    \"Sandal\",\n",
    "    \"Shirt\",\n",
    "    \"Sneaker\",\n",
    "    \"Bag\",\n",
    "    \"Ankle boot\",\n",
    "]\n",
    "\n",
    "model.eval()\n",
    "x, y = test_data[0][0], test_data[0][1]\n",
    "with torch.no_grad():\n",
    "    x = x.to(device)\n",
    "    pred = model(x)\n",
    "    predicted, actual = classes[pred[0].argmax(0)], classes[y]\n",
    "    print(f'Predicted: \"{predicted}\", Actual: \"{actual}\"')"
   ]
  },
  {
   "cell_type": "code",
   "execution_count": null,
   "id": "90396416",
   "metadata": {},
   "outputs": [],
   "source": [
    "img, = \n",
    "plt.title(labels_map[label])\n",
    "plt.axis(\"off\")\n",
    "plt.imshow(img.squeeze(), cmap=\"gray\")\n",
    "plt.show()"
   ]
  }
 ],
 "metadata": {
  "kernelspec": {
   "display_name": "Python 3",
   "language": "python",
   "name": "python3"
  },
  "language_info": {
   "codemirror_mode": {
    "name": "ipython",
    "version": 3
   },
   "file_extension": ".py",
   "mimetype": "text/x-python",
   "name": "python",
   "nbconvert_exporter": "python",
   "pygments_lexer": "ipython3",
   "version": "3.7.4"
  }
 },
 "nbformat": 4,
 "nbformat_minor": 5
}
